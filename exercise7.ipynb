{
  "nbformat": 4,
  "nbformat_minor": 0,
  "metadata": {
    "colab": {
      "private_outputs": true,
      "provenance": []
    },
    "kernelspec": {
      "name": "python3",
      "display_name": "Python 3"
    },
    "language_info": {
      "name": "python"
    }
  },
  "cells": [
    {
      "cell_type": "code",
      "execution_count": null,
      "metadata": {
        "id": "s7dHW9XB41qm"
      },
      "outputs": [],
      "source": [
        "#exercise 7 numpy basic\n",
        "#creaating arrays\n",
        "import pandas as pd\n",
        "#dictionary as lists\n",
        "dict={'name':[\"rajkaransingh\",\"sam\",\"soaib\",\"priya\"],\n",
        "'age':[\"23\",\"45\",\"18\",\"18\"]}\n",
        "info=pd.DataFrame(dict,index=[True,True,False,True])\n",
        "print(info)\n",
        "\n",
        "\n"
      ]
    },
    {
      "cell_type": "code",
      "source": [
        "#example\n",
        "import array\n",
        "#initializing an array with array value\n",
        "arr=array.array('l',[2,4,6,8,10,12])\n",
        "print(\"new created array:\",end=\"\")\n",
        "for l in range(0,5):\n",
        "  print(arr[l],end=\"\")\n",
        "  print(\"\\r\")"
      ],
      "metadata": {
        "id": "vs89gyBJ802d"
      },
      "execution_count": null,
      "outputs": []
    },
    {
      "cell_type": "code",
      "source": [
        "#example 2 how to access the DataFrame with a boolean index by using.loc[]\n",
        "import pandas as pd\n",
        "dict={'name':[\"rajkaran singh\",\"ram\",\"suaib\",\"puja\"],\n",
        "'age':[\"23\",\"45\",\"23\",\"18\"]}\n",
        "info=pd.DataFrame(dict,index=[True,True,False,True])\n",
        "print(info.loc[True])\n",
        "print(info.loc[False])\n"
      ],
      "metadata": {
        "id": "PqibVGI-8TiT"
      },
      "execution_count": null,
      "outputs": []
    },
    {
      "cell_type": "code",
      "source": [
        "# example -Reshaping arrays\n",
        "import numpy as np\n",
        "arr=np.arange(16)\n",
        "print(\"the original array is :\\n\",arr)\n",
        "#shape array with 2 rows and 8 columns\n",
        "arr=np.arange(16).reshape(2,8)\n",
        "print(\"\\nreshaped array:\\n\",arr)\n",
        "#shape arrat withh 2 rows and 8 columns\n",
        "arr=np.arange(16).reshape(8,2)\n",
        "print(\"\\n reshaped array:\",arr)"
      ],
      "metadata": {
        "id": "uPvpPW4B_lrI"
      },
      "execution_count": null,
      "outputs": []
    }
  ]
}